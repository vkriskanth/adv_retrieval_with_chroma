{
 "cells": [
  {
   "cell_type": "code",
   "execution_count": 2,
   "id": "59df4dca-9753-429e-8703-84f8874dad13",
   "metadata": {},
   "outputs": [],
   "source": [
    "from helper_utils import word_wrap"
   ]
  },
  {
   "cell_type": "code",
   "execution_count": 3,
   "id": "b5285c7d-cd85-4794-8ad8-6afde8745e46",
   "metadata": {},
   "outputs": [
    {
     "name": "stdout",
     "output_type": "stream",
     "text": [
      "1 Dear shareholders, colleagues, customers, and partners:  \n",
      "We are\n",
      "living through a period of historic economic, societal, and\n",
      "geopolitical change. The world in 2022 looks nothing like \n",
      "the world in\n",
      "2019. As I write this, inflation is at a 40 -year high, supply chains\n",
      "are stretched, and the war in Ukraine is \n",
      "ongoing. At the same time, we\n",
      "are entering a technological era with the potential to power awesome\n",
      "advancements \n",
      "across every sector of our economy and society. As the\n",
      "world’s largest software company, this places us at a historic\n",
      "\n",
      "intersection of opportunity and responsibility to the world around us.\n",
      " \n",
      "Our mission to empower every person and every organization on the\n",
      "planet to achieve more has never been more \n",
      "urgent or more necessary.\n",
      "For all the uncertainty in the world, one thing is clear: People and\n",
      "organizations in every \n",
      "industry are increasingly looking to digital\n",
      "technology to overcome today’s challenges and emerge stronger. And no\n",
      "\n",
      "company is better positioned to help them than Microsoft.  \n",
      "Every day\n",
      "this past fiscal year I have had the privilege to witness our customers\n",
      "use our platforms and tools to connect \n",
      "what technology can do with\n",
      "what the world needs  it to do.  \n",
      "Here are just a few examples:  \n",
      "•\n",
      "Ferrovial, which builds and manages some of the world’s busiest\n",
      "airports and highways, is using our cloud \n",
      "infrastructure to build\n",
      "safer roads as it prepares for a future of autonomous transportation. \n",
      "\n",
      "• Peace Parks Foundation, a nonprofit helping protect natural\n",
      "ecosystems in Southern Africa, is using Microsoft \n",
      "Dynamics 365 and\n",
      "Power BI to secure essential funding, as well as our Azure AI and IoT\n",
      "solutions to help \n",
      "rangers scale their park maintenance and wildlife\n",
      "crime prevention work.  \n",
      "• One of the world’s largest robotics\n",
      "companies, Kawasaki Heavy Industries, is using the breadth of our tools\n",
      "—\n",
      "from Azure IoT and HoloLens —to create an industrial metaverse\n",
      "solution that brings its distributed workforce \n",
      "together with its\n",
      "network of connected equipment to improve productivity and keep\n",
      "employees safe.  \n",
      "• Globo, the biggest media and TV company in Brazil,\n",
      "is using Power Platform to empower its employees to \n",
      "build their own\n",
      "solutions for everything from booking sets to setting schedules.  \n",
      "•\n",
      "And Ørsted, which produces a quarter of the world’s wind energy, is\n",
      "using the Microsoft Intelligent Data \n",
      "Platform to turn data from its\n",
      "offshore turbines into insights for predictive maintenance.  \n",
      "Amid this\n",
      "dynamic environment, we delivered record results in fiscal year 2022:\n",
      "We reported $198  billion in revenue and \n",
      "$83 billion in operating\n",
      "income. And the Microsoft Cloud surpassed $100  billion in annualized\n",
      "revenue for the first time.  \n",
      "OUR RESPONSIBILITY  \n",
      "As a corporation,\n",
      "our purpose and actions must be aligned with addressing the world’s\n",
      "problems, not creating new ones. \n",
      "At our very core, we need to deliver\n",
      "innovation that helps drive broad economic growth. We, as a company,\n",
      "will do well \n",
      "when the world around us does well.  \n",
      "That’s what I\n",
      "believe will lead to widespread human progress and ultimately improve\n",
      "the lives of everyone. There is no \n",
      "more powerful input than digital\n",
      "technology to drive the world’s economic output. This is the core\n",
      "thesis for our being as a \n",
      "company, but it’s not enough. As we drive\n",
      "global economic growth, we must also commit to creating a more\n",
      "inclusive, \n",
      "equitable, sustainable, and trusted future.  \n",
      "Support\n",
      "inclusive economic growth  \n",
      "We must ensure the growth we drive reaches\n",
      "every person, organization, community, and country. This starts with\n",
      "\n",
      "increasing access to digital skills. This year alone, more than 23 \n",
      "million people accessed digital skills training as part of \n",
      "our global\n",
      "skills initiative.\n"
     ]
    }
   ],
   "source": [
    "from pypdf import PdfReader\n",
    "reader = PdfReader(\"microsoft_annual_report_2022.pdf\")\n",
    "pdf_texts = [p.extract_text().strip() for p in reader.pages]\n",
    "\n",
    "#filter empty strings\n",
    "pdf_texts = [text for text in pdf_texts if text]\n",
    "print(word_wrap(pdf_texts[0]))"
   ]
  },
  {
   "cell_type": "code",
   "execution_count": 5,
   "id": "080d2f61-de7d-4092-90aa-6ad28ab4f0d2",
   "metadata": {},
   "outputs": [],
   "source": [
    "from langchain.text_splitter import RecursiveCharacterTextSplitter, SentenceTransformersTokenTextSplitter"
   ]
  },
  {
   "cell_type": "code",
   "execution_count": 6,
   "id": "2d43ff7c-b554-49da-a0be-9611af3e752b",
   "metadata": {},
   "outputs": [
    {
     "name": "stdout",
     "output_type": "stream",
     "text": [
      "increased, due in large part to significant global datacenter\n",
      "expansions and the growth in Xbox sales and usage. Despite \n",
      "these\n",
      "increases, we remain dedicated to achieving a net -zero future. We\n",
      "recognize that progress won’t always be linear, \n",
      "and the rate at which\n",
      "we can implement emissions reductions is dependent on many factors that\n",
      "can fluctuate over time.  \n",
      "On the path to becoming water positive, we\n",
      "invested in 21 water replenishment projects that are expected to\n",
      "generate \n",
      "over 1.3  million cubic meters of volumetric benefits in nine\n",
      "water basins around the world. Progress toward our zero waste\n",
      "\n",
      "commitment included diverting more than 15,200 metric tons of solid\n",
      "waste otherwise headed to landfills and incinerators, \n",
      "as well as\n",
      "launching new Circular Centers to increase reuse and reduce e -waste at\n",
      "our datacenters.  \n",
      "We contracted to protect over 17,000 acres of land\n",
      "(50% more than the land we use to operate), thus achieving our\n",
      "\n",
      " Total chunks:347\n"
     ]
    }
   ],
   "source": [
    "character_splitter = RecursiveCharacterTextSplitter(\n",
    "    separators=[\"\\n\\n\",\"\\n\",\". \",\" \",\"\"],\n",
    "    chunk_size = 1000,\n",
    "    chunk_overlap = 0)\n",
    "character_split_texts = character_splitter.split_text('\\n\\n'.join(pdf_texts))\n",
    "\n",
    "print(word_wrap(character_split_texts[10]))\n",
    "print(f\"\\n Total chunks:{len(character_split_texts)}\")"
   ]
  },
  {
   "cell_type": "code",
   "execution_count": 9,
   "id": "2fdf9352-9de7-4097-a5d8-8cb8d43b27d6",
   "metadata": {},
   "outputs": [
    {
     "data": {
      "application/vnd.jupyter.widget-view+json": {
       "model_id": "c715811fda2042ebae86fbd06e98d662",
       "version_major": 2,
       "version_minor": 0
      },
      "text/plain": [
       "modules.json:   0%|          | 0.00/349 [00:00<?, ?B/s]"
      ]
     },
     "metadata": {},
     "output_type": "display_data"
    },
    {
     "data": {
      "application/vnd.jupyter.widget-view+json": {
       "model_id": "99531e17e6a849ddac809b485459e3b5",
       "version_major": 2,
       "version_minor": 0
      },
      "text/plain": [
       "config_sentence_transformers.json:   0%|          | 0.00/116 [00:00<?, ?B/s]"
      ]
     },
     "metadata": {},
     "output_type": "display_data"
    },
    {
     "data": {
      "application/vnd.jupyter.widget-view+json": {
       "model_id": "a700ba37c23e4e1fa1370ada153d4dcd",
       "version_major": 2,
       "version_minor": 0
      },
      "text/plain": [
       "README.md:   0%|          | 0.00/10.6k [00:00<?, ?B/s]"
      ]
     },
     "metadata": {},
     "output_type": "display_data"
    },
    {
     "data": {
      "application/vnd.jupyter.widget-view+json": {
       "model_id": "b04e6fd5e9924793a72db5cc039ebae4",
       "version_major": 2,
       "version_minor": 0
      },
      "text/plain": [
       "sentence_bert_config.json:   0%|          | 0.00/53.0 [00:00<?, ?B/s]"
      ]
     },
     "metadata": {},
     "output_type": "display_data"
    },
    {
     "name": "stderr",
     "output_type": "stream",
     "text": [
      "/Users/kanthkr/opt/anaconda3/envs/adv_retrieval_with_chroma/lib/python3.9/site-packages/huggingface_hub/file_download.py:1132: FutureWarning: `resume_download` is deprecated and will be removed in version 1.0.0. Downloads always resume when possible. If you want to force a new download, use `force_download=True`.\n",
      "  warnings.warn(\n"
     ]
    },
    {
     "data": {
      "application/vnd.jupyter.widget-view+json": {
       "model_id": "a0cd1c52923c426388718af872421a34",
       "version_major": 2,
       "version_minor": 0
      },
      "text/plain": [
       "config.json:   0%|          | 0.00/571 [00:00<?, ?B/s]"
      ]
     },
     "metadata": {},
     "output_type": "display_data"
    },
    {
     "data": {
      "application/vnd.jupyter.widget-view+json": {
       "model_id": "8306e64c7d204f11807ba8ec7042816c",
       "version_major": 2,
       "version_minor": 0
      },
      "text/plain": [
       "model.safetensors:   0%|          | 0.00/438M [00:00<?, ?B/s]"
      ]
     },
     "metadata": {},
     "output_type": "display_data"
    },
    {
     "data": {
      "application/vnd.jupyter.widget-view+json": {
       "model_id": "b58aa2abea8243ed8ee929513f407e09",
       "version_major": 2,
       "version_minor": 0
      },
      "text/plain": [
       "tokenizer_config.json:   0%|          | 0.00/363 [00:00<?, ?B/s]"
      ]
     },
     "metadata": {},
     "output_type": "display_data"
    },
    {
     "data": {
      "application/vnd.jupyter.widget-view+json": {
       "model_id": "2ce9c962ff9f4eec822714003ee6d252",
       "version_major": 2,
       "version_minor": 0
      },
      "text/plain": [
       "vocab.txt:   0%|          | 0.00/232k [00:00<?, ?B/s]"
      ]
     },
     "metadata": {},
     "output_type": "display_data"
    },
    {
     "data": {
      "application/vnd.jupyter.widget-view+json": {
       "model_id": "f93c5fcee9204dd0882d9aa7256e0b6a",
       "version_major": 2,
       "version_minor": 0
      },
      "text/plain": [
       "tokenizer.json:   0%|          | 0.00/466k [00:00<?, ?B/s]"
      ]
     },
     "metadata": {},
     "output_type": "display_data"
    },
    {
     "data": {
      "application/vnd.jupyter.widget-view+json": {
       "model_id": "93e05dea5f3a41cf8d3df820fa0d8582",
       "version_major": 2,
       "version_minor": 0
      },
      "text/plain": [
       "special_tokens_map.json:   0%|          | 0.00/239 [00:00<?, ?B/s]"
      ]
     },
     "metadata": {},
     "output_type": "display_data"
    },
    {
     "data": {
      "application/vnd.jupyter.widget-view+json": {
       "model_id": "f4525cda8af04fa0b2437d2af0e062e5",
       "version_major": 2,
       "version_minor": 0
      },
      "text/plain": [
       "1_Pooling/config.json:   0%|          | 0.00/190 [00:00<?, ?B/s]"
      ]
     },
     "metadata": {},
     "output_type": "display_data"
    },
    {
     "name": "stdout",
     "output_type": "stream",
     "text": [
      "increased, due in large part to significant global datacenter\n",
      "expansions and the growth in xbox sales and usage. despite these\n",
      "increases, we remain dedicated to achieving a net - zero future. we\n",
      "recognize that progress won ’ t always be linear, and the rate at which\n",
      "we can implement emissions reductions is dependent on many factors that\n",
      "can fluctuate over time. on the path to becoming water positive, we\n",
      "invested in 21 water replenishment projects that are expected to\n",
      "generate over 1. 3 million cubic meters of volumetric benefits in nine\n",
      "water basins around the world. progress toward our zero waste\n",
      "commitment included diverting more than 15, 200 metric tons of solid\n",
      "waste otherwise headed to landfills and incinerators, as well as\n",
      "launching new circular centers to increase reuse and reduce e - waste\n",
      "at our datacenters. we contracted to protect over 17, 000 acres of land\n",
      "( 50 % more than the land we use to operate ), thus achieving our\n",
      "\n",
      " Total chunks: 349\n"
     ]
    }
   ],
   "source": [
    "token_splitter = SentenceTransformersTokenTextSplitter(chunk_overlap = 0, tokens_per_chunk=256)\n",
    "token_split_texts = []\n",
    "\n",
    "for text in character_split_texts:\n",
    "    token_split_texts += token_splitter.split_text(text)\n",
    "\n",
    "print(word_wrap(token_split_texts[10]))\n",
    "print(f\"\\n Total chunks: {len(token_split_texts)}\")"
   ]
  },
  {
   "cell_type": "code",
   "execution_count": 10,
   "id": "31e48979-5064-43b5-bed0-11a00c31bfcb",
   "metadata": {},
   "outputs": [
    {
     "name": "stderr",
     "output_type": "stream",
     "text": [
      "/Users/kanthkr/opt/anaconda3/envs/adv_retrieval_with_chroma/lib/python3.9/site-packages/huggingface_hub/file_download.py:1132: FutureWarning: `resume_download` is deprecated and will be removed in version 1.0.0. Downloads always resume when possible. If you want to force a new download, use `force_download=True`.\n",
      "  warnings.warn(\n"
     ]
    },
    {
     "name": "stdout",
     "output_type": "stream",
     "text": [
      "[[0.04256264492869377, 0.0332118384540081, 0.030340101569890976, -0.03486660495400429, 0.0684165209531784, -0.08090907335281372, -0.015474360436201096, -0.0014509460888803005, -0.01674448885023594, 0.06770768761634827, -0.050541359931230545, -0.04919537156820297, 0.05139993503689766, 0.09192726016044617, -0.07177837938070297, 0.039519697427749634, -0.012833555229008198, -0.02494747005403042, -0.04622866213321686, -0.02435753121972084, 0.03394966945052147, 0.025502454489469528, 0.027317123487591743, -0.004126206040382385, -0.03633837401866913, 0.003690916346386075, -0.02743046171963215, 0.004796750843524933, -0.028896253556013107, -0.01887071505188942, 0.03666626662015915, 0.025695834308862686, 0.03131283447146416, -0.06393440067768097, 0.05394403263926506, 0.08225350081920624, -0.041756849735975266, -0.0069958181120455265, -0.023486042395234108, -0.03074796497821808, -0.0029792350251227617, -0.07790940254926682, 0.00935311708599329, 0.0031628941651433706, -0.02225702442228794, -0.01829466223716736, -0.009612462483346462, -0.03150683268904686, -0.005519659724086523, -0.03270304203033447, 0.1680297553539276, -0.047459691762924194, -0.050016820430755615, -0.0026596542447805405, -0.041047241538763046, -0.07003945857286453, 0.01829594559967518, -0.031431108713150024, -0.047411199659109116, -0.02366364561021328, 0.05944949761033058, -0.07201439142227173, 0.004945205058902502, -0.055326927453279495, 0.08745483309030533, 0.02787267230451107, -0.039772577583789825, 0.03452996537089348, -0.09992027282714844, 0.032897599041461945, -0.05780424177646637, 0.0024546622298657894, -0.02789229340851307, -0.04994703084230423, -0.04058249667286873, 0.011917481198906898, 0.020419053733348846, 0.07765398919582367, 0.06351622939109802, 0.017546886578202248, 0.023460956290364265, -0.007916631177067757, 0.017074232921004295, 0.008641235530376434, -0.06815339624881744, 0.034296147525310516, 0.0006465167389251292, 0.022735442966222763, 0.05279361456632614, -0.05857320502400398, -0.09784109890460968, -0.0014718786114826798, 0.13739889860153198, 0.0020794698502868414, -0.07581518590450287, 0.05786573514342308, -0.060696400701999664, -0.06595753133296967, -0.033650580793619156, -0.03185924515128136, 0.012266612611711025, 0.09373301267623901, 0.06799507141113281, -0.08434036374092102, 0.044024765491485596, -0.04263870418071747, 0.011163035407662392, 0.10505218058824539, 0.029505832120776176, -0.018521124497056007, -0.02968830056488514, -0.03377027437090874, 0.0014967058086767793, 0.037323713302612305, -0.020249690860509872, 0.05842076987028122, -0.03979165479540825, -0.021219691261649132, 0.006418106611818075, -0.01029018685221672, 0.01962611824274063, 0.003679668763652444, -0.050310902297496796, -0.01689709536731243, 0.04854497313499451, 0.0668230876326561, 0.019536346197128296, 2.7227492593386855e-33, -0.03593409061431885, 0.01566186547279358, 0.09677653759717941, -0.0002851535100489855, -0.009768487885594368, -0.09068472683429718, 0.014486283995211124, 0.012590725906193256, 0.02543582394719124, -0.03443485498428345, 0.004262921400368214, 0.027121378108859062, -0.02040998637676239, 0.07688489556312561, 0.035721004009246826, -0.13492532074451447, 0.05657852813601494, 0.018364526331424713, 0.022577881813049316, -0.035890281200408936, -0.011456673964858055, -0.049938276410102844, -0.01601237803697586, -0.06335370242595673, 0.10463961213827133, -0.08801605552434921, -0.004462300334125757, -0.010301023721694946, -0.017630748450756073, -0.020292285829782486, 0.00670417258515954, 0.09172346442937851, -0.00779504980891943, 0.0059494138695299625, -0.015348877757787704, 0.018279533833265305, -0.01892145164310932, 0.039875250309705734, -0.003967301454395056, 0.03341927006840706, -0.05607721209526062, 0.07581256330013275, -0.005625493824481964, -0.05445525422692299, 0.06698442995548248, -0.025974392890930176, 0.11199561506509781, -0.03642138093709946, 0.0050125932320952415, 0.0320100300014019, 0.04963688552379608, 0.09711595624685287, -0.11546942591667175, 0.06413272768259048, -0.033978816121816635, -0.09291565418243408, 0.049754779785871506, -0.08613419532775879, -0.008366384543478489, -0.013703737407922745, -0.07882803678512573, 0.019654350355267525, -0.03715044632554054, 0.014476142823696136, -0.0494031086564064, 0.05349242314696312, 0.09139011800289154, 0.031002860516309738, 0.03028762713074684, 0.02134278416633606, -0.043937742710113525, -0.04297441244125366, -0.0022650803439319134, -0.0219440758228302, 0.005474620498716831, -0.010243932716548443, 0.021677963435649872, -0.02732367068529129, -0.0007882500649429858, 0.03308919817209244, -0.007402374409139156, 0.009830009192228317, 0.013544062152504921, -0.032744791358709335, 0.05601908266544342, -0.0601164847612381, 0.031122002750635147, 0.03442239388823509, 0.026550503447651863, -0.006807928904891014, -0.011054226197302341, -0.014439892955124378, 0.022785356268286705, -0.027952006086707115, -0.016208963468670845, -3.689251551173317e-33, 0.029203712940216064, 0.04670485854148865, -0.04964413493871689, 0.06324490904808044, 0.028438040986657143, -0.022357195615768433, 0.03347982093691826, -0.018478700891137123, 0.01878010854125023, 0.002411701250821352, -0.0816783681511879, 0.10084161162376404, 0.04902314022183418, 0.036467306315898895, -0.045560404658317566, -0.07049195468425751, 0.025340426713228226, -0.03267943859100342, -0.04296499490737915, -0.07251022756099701, 0.04130715876817703, 0.05049721896648407, 0.006477180402725935, -0.0033249978441745043, -0.08235661685466766, 0.0800771713256836, -0.03465390205383301, 0.00847049243748188, 0.04138945788145065, -0.010147672146558762, -0.10289657115936279, 0.04567127302289009, 0.012796026654541492, -0.06017764285206795, -0.026627853512763977, -0.09725233912467957, 0.015798630192875862, 0.07219130545854568, -0.015325826592743397, 0.00180712656583637, 0.06039535999298096, -0.07077643275260925, -0.0212787464261055, -0.038516245782375336, -0.057411156594753265, -0.004253818653523922, 0.03280765563249588, -0.017595632001757622, 0.04975762218236923, -0.0073790294118225574, -0.008354583755135536, 0.04313783720135689, -0.05429159477353096, 0.04316212981939316, 0.02368857152760029, 0.01817157305777073, 0.09282206743955612, -0.004222948104143143, -0.022514600306749344, 0.019288279116153717, -0.03684435039758682, 0.1001519113779068, 0.01776476576924324, 0.02284954860806465, -0.03967687487602234, 0.0016808584332466125, 0.05066925659775734, 0.08564931154251099, -0.02641354873776436, -0.03266861289739609, -0.03694959357380867, -0.020994065329432487, 0.017766060307621956, -0.07413067668676376, -0.024688145145773888, -0.039948925375938416, -0.024768000468611717, -0.02419406734406948, -0.010816429741680622, 0.010816000401973724, -0.03055170364677906, 0.10519366711378098, -0.008021758869290352, -0.03289629891514778, 0.14804388582706451, -0.07094291597604752, -0.050219111144542694, -0.15231886506080627, 0.022767459973692894, 0.13845957815647125, -0.0792330950498581, -0.04160100221633911, -0.09371676295995712, 0.06601829081773758, 0.04352036491036415, -4.9979703931057884e-08, -0.010548077523708344, 0.060080286115407944, 0.028823483735322952, 0.07072242349386215, 0.03157535195350647, -0.059137973934412, 0.05488335341215134, 0.16316647827625275, 0.03475948050618172, 0.027875402942299843, 0.07126770913600922, -0.006946367211639881, -0.05290435254573822, 0.011619039811193943, -0.026835013180971146, 0.02895433083176613, 0.043446920812129974, -0.07012002170085907, -0.05879398062825203, -0.03921934962272644, -0.017293933779001236, -0.03005446493625641, -0.08112525194883347, -0.045062072575092316, 0.05249616876244545, -0.049235712736845016, 0.08052123337984085, 0.06585509330034256, -0.0006080716848373413, -0.04566407948732376, 0.03058701381087303, -0.006386063527315855, -0.03175574541091919, 0.008228812366724014, 0.010760976932942867, 0.001041268464177847, 0.019078725948929787, 0.03227987512946129, -0.01440875418484211, 0.03579794988036156, -0.07228189706802368, 0.033632975071668625, 0.006663566920906305, -0.01820623315870762, -0.02043626643717289, -0.002635398879647255, -0.1854771375656128, 0.012449320405721664, 0.029731320217251778, -0.03854849189519882, -0.00975334458053112, -0.013694342225790024, 0.00918335746973753, 0.08488919585943222, 0.12721878290176392, 0.05545999854803085, -0.04936164617538452, -0.01191200502216816, -0.056979261338710785, 0.1042008325457573, 0.05718068778514862, -0.10395054519176483, -0.02376784384250641, -0.027168991044163704]]\n"
     ]
    }
   ],
   "source": [
    "import chromadb\n",
    "from chromadb.utils.embedding_functions import SentenceTransformerEmbeddingFunction\n",
    "\n",
    "embedding_function = SentenceTransformerEmbeddingFunction()\n",
    "print(embedding_function([token_split_texts[10]]))"
   ]
  },
  {
   "cell_type": "code",
   "execution_count": 11,
   "id": "b6403ac9-115c-4af5-8f40-8877fef4c700",
   "metadata": {},
   "outputs": [
    {
     "data": {
      "text/plain": [
       "349"
      ]
     },
     "execution_count": 11,
     "metadata": {},
     "output_type": "execute_result"
    }
   ],
   "source": [
    "chroma_client = chromadb.Client()\n",
    "chroma_collection = chroma_client.create_collection(\"microsoft_annual_report_2022.pdf\", embedding_function = embedding_function)\n",
    "\n",
    "ids = [str(i) for i in range(len(token_split_texts))]\n",
    "\n",
    "chroma_collection.add(ids = ids, documents= token_split_texts)\n",
    "chroma_collection.count()"
   ]
  },
  {
   "cell_type": "code",
   "execution_count": 13,
   "id": "08127483-2c19-40b6-a585-053b6b002e0b",
   "metadata": {},
   "outputs": [
    {
     "name": "stdout",
     "output_type": "stream",
     "text": [
      "revenue, classified by significant product and service offerings, was\n",
      "as follows : ( in millions ) year ended june 30, 2022 2021 2020 server\n",
      "products and cloud services $ 67, 321 $ 52, 589 $ 41, 379 office\n",
      "products and cloud services 44, 862 39, 872 35, 316 windows 24, 761 22,\n",
      "488 21, 510 gaming 16, 230 15, 370 11, 575 linkedin 13, 816 10, 289 8,\n",
      "077 search and news advertising 11, 591 9, 267 8, 524 enterprise\n",
      "services 7, 407 6, 943 6, 409 devices 6, 991 6, 791 6, 457 other 5, 291\n",
      "4, 479 3, 768 total $ 198, 270 $ 168, 088 $ 143, 015 we have recast\n",
      "certain previously reported amounts in the table above to conform to\n",
      "the way we internally manage and monitor our business.\n",
      "\n",
      "\n",
      "74 note 13 — unearned revenue unearned revenue by segment was as\n",
      "follows : ( in millions ) june 30, 2022 2021 productivity and business\n",
      "processes $ 24, 558 $ 22, 120 intelligent cloud 19, 371 17, 710 more\n",
      "personal computing 4, 479 4, 311 total $ 48, 408 $ 44, 141 changes in\n",
      "unearned revenue were as follows : ( in millions ) year ended june 30,\n",
      "2022 balance, beginning of period $ 44, 141 deferral of revenue 110,\n",
      "455 recognition of unearned revenue ( 106, 188 ) balance, end of period\n",
      "$ 48, 408 revenue allocated to remaining performance obligations, which\n",
      "includes unearned revenue and amounts that will be invoiced and\n",
      "recognized as revenue in future periods, was $ 193 billion as of june\n",
      "30, 2022, of which $ 189 billion is related to the commercial portion\n",
      "of revenue. we expect to recognize approximately 45 % of this revenue\n",
      "over the next 12\n",
      "\n",
      "\n",
      "that are not sold separately. • we tested the mathematical accuracy of\n",
      "management ’ s calculations of revenue and the associated timing of\n",
      "revenue recognized in the financial statements.\n",
      "\n",
      "\n",
      "82 in addition, certain costs incurred at a corporate level that are\n",
      "identifiable and that benefit our segments are allocated to them. these\n",
      "allocated costs include legal, including settlements and fines,\n",
      "information technology, human resources, finance, excise taxes, field\n",
      "selling, shared facilities services, and customer service and support.\n",
      "each allocation is measured differently based on the specific facts and\n",
      "circumstances of the costs being allocated. segment revenue and\n",
      "operating income were as follows during the periods presented : ( in\n",
      "millions ) year ended june 30, 2022 2021 2020 revenue productivity and\n",
      "business processes $ 63, 364 $ 53, 915 $ 46, 398 intelligent cloud 75,\n",
      "251 60, 080 48, 366 more personal computing 59, 655 54, 093 48, 251\n",
      "total $ 198, 270 $ 168, 088 $ 143, 015 operating income\n",
      "\n",
      "\n",
      "47 financial statements and supplementary data income statements ( in\n",
      "millions, except per share amounts ) year ended june 30, 2022 2021 2020\n",
      "revenue : product $ 72, 732 $ 71, 074 $ 68, 041 service and other 125,\n",
      "538 97, 014 74, 974 total revenue 198, 270 168, 088 143, 015 cost of\n",
      "revenue : product 19, 064 18, 219 16, 017 service and other 43, 586 34,\n",
      "013 30, 061 total cost of revenue 62, 650 52, 232 46, 078 gross margin\n",
      "135, 620 115, 856 96, 937 research and development 24, 512 20, 716 19,\n",
      "269 sales and marketing 21, 825 20, 117 19, 598 general and\n",
      "administrative 5, 900 5, 107 5, 111 operating income 83, 383 69, 916\n",
      "52, 959 other income, net 333 1, 186 77 income before income taxes 83,\n",
      "716 71, 102 53, 036 provision for income taxes 10, 978 9, 831 8, 755\n",
      "\n",
      "\n"
     ]
    }
   ],
   "source": [
    "query = \"what was the total revenue?\"\n",
    "\n",
    "results = chroma_collection.query(query_texts=[query], n_results=5)\n",
    "retrieved_documents = results['documents'][0]\n",
    "\n",
    "for document in retrieved_documents:\n",
    "    print(word_wrap(document))\n",
    "    print('\\n')"
   ]
  },
  {
   "cell_type": "code",
   "execution_count": 14,
   "id": "61c47d4d-1c41-48ce-9528-a9116e2d3150",
   "metadata": {},
   "outputs": [],
   "source": [
    "import os\n",
    "import openai\n",
    "from openai import OpenAI\n",
    "\n",
    "from dotenv import load_dotenv, find_dotenv\n",
    "_ = load_dotenv(find_dotenv())\n",
    "openai.api_key = os.environ['OPENAI_API_KEY']\n",
    "\n",
    "openai_client = OpenAI()\n"
   ]
  },
  {
   "cell_type": "code",
   "execution_count": 15,
   "id": "7e754da3-9cf1-4193-a6ae-bb37b185a9c0",
   "metadata": {},
   "outputs": [],
   "source": [
    "def rag(query, retrieved_documents, model=\"gpt-3.5-turbo\"):\n",
    "    information = \"\\n\\n\".join(retrieved_documents)\n",
    "    messages = [\n",
    "    {\n",
    "    \"role\": \"system\",\n",
    "    \"content\": \"You are a helpful expert financial research assistant. Your users are asking questions about information contained in an annual report.\"\n",
    "    \"You will be shown the user's question, and the relevant information from the annual report. Answer the user's question only using this information.\"\n",
    "    },\n",
    "    {\"role\": \"user\", \"content\": f\"Question: {query}.\\n Information: {information}\"}\n",
    "    ]\n",
    "    response = openai_client.chat.completions.create(\n",
    "        model = model,\n",
    "        messages = messages,\n",
    "    )\n",
    "    content = response.choices[0].message.content\n",
    "    return content\n",
    "    "
   ]
  },
  {
   "cell_type": "code",
   "execution_count": 16,
   "id": "c1052568-aca9-4790-afe6-cdde5ccda31d",
   "metadata": {},
   "outputs": [
    {
     "name": "stderr",
     "output_type": "stream",
     "text": [
      "huggingface/tokenizers: The current process just got forked, after parallelism has already been used. Disabling parallelism to avoid deadlocks...\n",
      "To disable this warning, you can either:\n",
      "\t- Avoid using `tokenizers` before the fork if possible\n",
      "\t- Explicitly set the environment variable TOKENIZERS_PARALLELISM=(true | false)\n"
     ]
    },
    {
     "name": "stdout",
     "output_type": "stream",
     "text": [
      "The total revenue for the year ended June 30, 2022, was $198,270\n",
      "million.\n"
     ]
    }
   ],
   "source": [
    "output = rag(query= query, retrieved_documents= retrieved_documents)\n",
    "print(word_wrap(output))"
   ]
  },
  {
   "cell_type": "code",
   "execution_count": 17,
   "id": "e0d9e943-7ba7-48b4-a35c-87f3437d5a94",
   "metadata": {},
   "outputs": [
    {
     "name": "stdout",
     "output_type": "stream",
     "text": [
      "The annual report provides information on the total revenue generated\n",
      "over the years by different product offerings. The cash flow statement\n",
      "itself is not provided in the given information. However, from the\n",
      "revenue details provided, we can infer that the company's total revenue\n",
      "has increased over the years, with revenue from server products and\n",
      "cloud services, office products and cloud services, and windows showing\n",
      "significant growth. Additionally, the report mentions that a\n",
      "substantial amount of revenue is yet to be recognized from unearned\n",
      "revenue, amounting to $193 billion as of June 30, 2022, of which $189\n",
      "billion is related to the commercial portion of revenue. Furthermore,\n",
      "the report states that the company expects to recognize approximately\n",
      "45% of this revenue over the next 12 months.\n"
     ]
    }
   ],
   "source": [
    "query = \"Generate a summary of the report around cash flow\"\n",
    "output = rag(query= query, retrieved_documents= retrieved_documents)\n",
    "print(word_wrap(output))"
   ]
  },
  {
   "cell_type": "code",
   "execution_count": 18,
   "id": "3ea2d114-968d-4a88-8017-c38f55822087",
   "metadata": {},
   "outputs": [
    {
     "name": "stdout",
     "output_type": "stream",
     "text": [
      "Based on the information provided in the annual report, there is no\n",
      "specific mention of debt obligations for Microsoft. The report does\n",
      "include details about revenue, unearned revenue, cost of revenue,\n",
      "operating income, and other financial information, but does not discuss\n",
      "debt obligations.\n"
     ]
    }
   ],
   "source": [
    "query = \"Are there any debt obligations for microsoft\"\n",
    "output = rag(query= query, retrieved_documents= retrieved_documents)\n",
    "print(word_wrap(output))"
   ]
  },
  {
   "cell_type": "code",
   "execution_count": 19,
   "id": "ced23230-824b-4672-b1dd-b39dd1535ca3",
   "metadata": {},
   "outputs": [
    {
     "name": "stdout",
     "output_type": "stream",
     "text": [
      "There is no mention of executive compensation in the provided\n",
      "information from the annual report.\n"
     ]
    }
   ],
   "source": [
    "query = \"Are there any mention of executive compensation?\"\n",
    "output = rag(query= query, retrieved_documents= retrieved_documents)\n",
    "print(word_wrap(output))"
   ]
  },
  {
   "cell_type": "code",
   "execution_count": 20,
   "id": "9b365db6-d736-4988-be9e-372b997fb9c0",
   "metadata": {},
   "outputs": [
    {
     "name": "stdout",
     "output_type": "stream",
     "text": [
      "The cloud business is performing well based on the revenue numbers. The\n",
      "revenue from intelligent cloud products and services increased from\n",
      "$60.08 billion in 2021 to $75.25 billion in 2022. Additionally, the\n",
      "unearned revenue for the intelligent cloud segment also grew from\n",
      "$17.71 billion in 2021 to $19.37 billion in 2022. This indicates a\n",
      "positive trend in the cloud business performance for the company.\n"
     ]
    }
   ],
   "source": [
    "query = \"How is the cloud business performing\"\n",
    "output = rag(query= query, retrieved_documents= retrieved_documents)\n",
    "print(word_wrap(output))"
   ]
  },
  {
   "cell_type": "code",
   "execution_count": null,
   "id": "651cd6ef-8ff5-46c6-9ead-87960d8e2ce9",
   "metadata": {},
   "outputs": [],
   "source": []
  }
 ],
 "metadata": {
  "kernelspec": {
   "display_name": "Python 3 (ipykernel)",
   "language": "python",
   "name": "python3"
  },
  "language_info": {
   "codemirror_mode": {
    "name": "ipython",
    "version": 3
   },
   "file_extension": ".py",
   "mimetype": "text/x-python",
   "name": "python",
   "nbconvert_exporter": "python",
   "pygments_lexer": "ipython3",
   "version": "3.9.19"
  }
 },
 "nbformat": 4,
 "nbformat_minor": 5
}
